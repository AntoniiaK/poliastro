{
 "cells": [
  {
   "cell_type": "markdown",
   "metadata": {},
   "source": [
    "# Going to Jupiter with Python using Jupyter and poliastro"
   ]
  },
  {
   "cell_type": "code",
   "execution_count": 1,
   "metadata": {},
   "outputs": [
    {
     "data": {
      "text/plain": [
       "<ScienceState solar_system_ephemeris: 'jpl'>"
      ]
     },
     "execution_count": 1,
     "metadata": {},
     "output_type": "execute_result"
    }
   ],
   "source": [
    "import numpy as np\n",
    "\n",
    "import astropy.units as u\n",
    "from astropy.time import Time\n",
    "from astropy.coordinates import solar_system_ephemeris\n",
    "\n",
    "from poliastro.bodies import Sun, Earth, Jupiter\n",
    "from poliastro.twobody import Orbit\n",
    "from poliastro.maneuver import Maneuver\n",
    "from poliastro.iod import izzo\n",
    "from poliastro.plotting import OrbitPlotter2D\n",
    "from poliastro.util import norm\n",
    "\n",
    "solar_system_ephemeris.set(\"jpl\")"
   ]
  },
  {
   "cell_type": "code",
   "execution_count": 2,
   "metadata": {},
   "outputs": [],
   "source": [
    "## Initial data\n",
    "# Links and sources: https://github.com/poliastro/poliastro/wiki/EuroPython:-Per-Python-ad-Astra\n",
    "date_launch = Time(\"2011-08-05 16:25\", scale='utc')\n",
    "C_3 = 31.1 * u.km**2 / u.s**2\n",
    "date_flyby = Time(\"2013-10-09 19:21\", scale='utc')\n",
    "date_arrival = Time(\"2016-07-05 03:18\", scale='utc')"
   ]
  },
  {
   "cell_type": "code",
   "execution_count": 3,
   "metadata": {},
   "outputs": [
    {
     "name": "stderr",
     "output_type": "stream",
     "text": [
      "/home/juanlu/Development/poliastro/poliastro-library/src/poliastro/twobody/orbit.py:210: TimeScaleWarning:\n",
      "\n",
      "Input time was converted to scale='tdb' with value 2011-08-05 16:26:06.183. Use Time(..., scale='tdb') instead.\n",
      "\n"
     ]
    }
   ],
   "source": [
    "# Initial state of the Earth\n",
    "ss_e0 = Orbit.from_body_ephem(Earth, date_launch)\n",
    "r_e0, v_e0 = ss_e0.rv()"
   ]
  },
  {
   "cell_type": "code",
   "execution_count": 4,
   "metadata": {},
   "outputs": [
    {
     "data": {
      "text/latex": [
       "$[1.0246553 \\times 10^{8},~-1.023135 \\times 10^{8},~-44353346] \\; \\mathrm{km}$"
      ],
      "text/plain": [
       "<Quantity [ 1.02465527e+08, -1.02313505e+08, -4.43533465e+07] km>"
      ]
     },
     "execution_count": 4,
     "metadata": {},
     "output_type": "execute_result"
    }
   ],
   "source": [
    "r_e0"
   ]
  },
  {
   "cell_type": "code",
   "execution_count": 5,
   "metadata": {},
   "outputs": [
    {
     "data": {
      "text/latex": [
       "$[1847708.5,~1594323.4,~691089.12] \\; \\mathrm{\\frac{km}{d}}$"
      ],
      "text/plain": [
       "<Quantity [1847708.49619718, 1594323.36225826,  691089.12249534] km / d>"
      ]
     },
     "execution_count": 5,
     "metadata": {},
     "output_type": "execute_result"
    }
   ],
   "source": [
    "v_e0"
   ]
  },
  {
   "cell_type": "code",
   "execution_count": 6,
   "metadata": {},
   "outputs": [
    {
     "name": "stderr",
     "output_type": "stream",
     "text": [
      "/home/juanlu/Development/poliastro/poliastro-library/src/poliastro/twobody/orbit.py:210: TimeScaleWarning:\n",
      "\n",
      "Input time was converted to scale='tdb' with value 2013-10-09 19:22:07.182. Use Time(..., scale='tdb') instead.\n",
      "\n"
     ]
    }
   ],
   "source": [
    "# State of the Earth the day of the flyby\n",
    "ss_efly = Orbit.from_body_ephem(Earth, date_flyby)\n",
    "r_efly, v_efly = ss_efly.rv()"
   ]
  },
  {
   "cell_type": "code",
   "execution_count": 7,
   "metadata": {},
   "outputs": [],
   "source": [
    "# Assume that the insertion velocity is tangential to that of the Earth\n",
    "dv = C_3**.5 * v_e0 / norm(v_e0)\n",
    "man = Maneuver.impulse(dv)"
   ]
  },
  {
   "cell_type": "code",
   "execution_count": 8,
   "metadata": {},
   "outputs": [
    {
     "data": {
      "text/plain": [
       "(<Quantity [ 1.02465527e+08, -1.02313505e+08, -4.43533465e+07] km>,\n",
       " <Quantity [2198705.82621214, 1897186.74383867,  822370.88977492] km / d>)"
      ]
     },
     "execution_count": 8,
     "metadata": {},
     "output_type": "execute_result"
    }
   ],
   "source": [
    "# Inner Cruise 1\n",
    "ic1 = ss_e0.apply_maneuver(man)\n",
    "ic1.rv()"
   ]
  },
  {
   "cell_type": "code",
   "execution_count": 9,
   "metadata": {},
   "outputs": [
    {
     "data": {
      "text/latex": [
       "$2.1515474 \\; \\mathrm{yr}$"
      ],
      "text/plain": [
       "<Quantity 2.15154736 yr>"
      ]
     },
     "execution_count": 9,
     "metadata": {},
     "output_type": "execute_result"
    }
   ],
   "source": [
    "ic1.period.to(u.year)"
   ]
  },
  {
   "cell_type": "code",
   "execution_count": 10,
   "metadata": {},
   "outputs": [
    {
     "name": "stderr",
     "output_type": "stream",
     "text": [
      "/home/juanlu/Development/poliastro/poliastro-library/src/poliastro/twobody/orbit.py:608: UserWarning:\n",
      "\n",
      "Frame <class 'astropy.coordinates.builtin_frames.icrs.ICRS'> does not support 'obstime', time values were not returned\n",
      "\n"
     ]
    },
    {
     "data": {
      "application/vnd.jupyter.widget-view+json": {
       "model_id": "674902b77f34466e88ac0507e64f048e",
       "version_major": 2,
       "version_minor": 0
      },
      "text/plain": [
       "FigureWidget({\n",
       "    'data': [{'hoverinfo': 'none',\n",
       "              'line': {'color': 'rgb(31, 119, 180)', 'dash':…"
      ]
     },
     "metadata": {},
     "output_type": "display_data"
    }
   ],
   "source": [
    "op = OrbitPlotter2D()\n",
    "\n",
    "op.plot(ss_e0)\n",
    "op.plot(ic1)"
   ]
  },
  {
   "cell_type": "code",
   "execution_count": 11,
   "metadata": {},
   "outputs": [
    {
     "data": {
      "text/plain": [
       "<Time object: scale='tdb' format='iso' value=2012-09-01 14:40>"
      ]
     },
     "execution_count": 11,
     "metadata": {},
     "output_type": "execute_result"
    }
   ],
   "source": [
    "# We propagate until the aphelion\n",
    "ss_aph = ic1.propagate(ic1.period / 2)\n",
    "ss_aph.epoch"
   ]
  },
  {
   "cell_type": "code",
   "execution_count": 12,
   "metadata": {},
   "outputs": [
    {
     "data": {
      "text/plain": [
       "<TimeDelta object: scale='tai' format='jd' value=403.1958969055241>"
      ]
     },
     "execution_count": 12,
     "metadata": {},
     "output_type": "execute_result"
    }
   ],
   "source": [
    "# Let's compute the Lambert solution to do the flyby of the Earth\n",
    "time_of_flight = date_flyby - ss_aph.epoch\n",
    "time_of_flight"
   ]
  },
  {
   "cell_type": "code",
   "execution_count": 13,
   "metadata": {},
   "outputs": [],
   "source": [
    "(v_aph, v_fly), = izzo.lambert(Sun.k, ss_aph.r, ss_efly.r, time_of_flight)"
   ]
  },
  {
   "cell_type": "code",
   "execution_count": 14,
   "metadata": {},
   "outputs": [
    {
     "data": {
      "text/latex": [
       "$1.079866 \\; \\mathrm{\\frac{km}{s}}$"
      ],
      "text/plain": [
       "<Quantity 1.07986596 km / s>"
      ]
     },
     "execution_count": 14,
     "metadata": {},
     "output_type": "execute_result"
    }
   ],
   "source": [
    "# Check the delta-V\n",
    "norm(v_aph - ss_aph.v)  # Too high!"
   ]
  },
  {
   "cell_type": "code",
   "execution_count": 15,
   "metadata": {},
   "outputs": [],
   "source": [
    "ss_aph_post = Orbit.from_vectors(Sun, ss_aph.r, v_aph, epoch=ss_aph.epoch)\n",
    "ss_junofly = Orbit.from_vectors(Sun, r_efly, v_fly, epoch=date_flyby)"
   ]
  },
  {
   "cell_type": "code",
   "execution_count": 16,
   "metadata": {},
   "outputs": [
    {
     "name": "stderr",
     "output_type": "stream",
     "text": [
      "/home/juanlu/Development/poliastro/poliastro-library/src/poliastro/twobody/orbit.py:608: UserWarning:\n",
      "\n",
      "Frame <class 'astropy.coordinates.builtin_frames.icrs.ICRS'> does not support 'obstime', time values were not returned\n",
      "\n"
     ]
    },
    {
     "data": {
      "application/vnd.jupyter.widget-view+json": {
       "model_id": "44170e3049fe4dd29d28aa50911f93d9",
       "version_major": 2,
       "version_minor": 0
      },
      "text/plain": [
       "FigureWidget({\n",
       "    'data': [{'hoverinfo': 'none',\n",
       "              'line': {'color': 'rgb(31, 119, 180)', 'dash':…"
      ]
     },
     "metadata": {},
     "output_type": "display_data"
    }
   ],
   "source": [
    "op = OrbitPlotter2D()\n",
    "\n",
    "op.plot(ss_e0, label=\"Earth\")\n",
    "op.plot_trajectory(ic1.sample(np.linspace(0 * u.deg, 180 * u.deg, 50)), label=\"Inner Cruise 1\")\n",
    "#op.plot(ss_efly)\n",
    "op.plot(ss_aph_post, label=\"Back to Earth\")"
   ]
  },
  {
   "cell_type": "code",
   "execution_count": 17,
   "metadata": {},
   "outputs": [
    {
     "name": "stderr",
     "output_type": "stream",
     "text": [
      "/home/juanlu/Development/poliastro/poliastro-library/src/poliastro/twobody/orbit.py:210: TimeScaleWarning:\n",
      "\n",
      "Input time was converted to scale='tdb' with value 2016-07-05 03:19:08.184. Use Time(..., scale='tdb') instead.\n",
      "\n"
     ]
    }
   ],
   "source": [
    "# And now, go to Jupiter!\n",
    "ss_j = Orbit.from_body_ephem(Jupiter, date_arrival)\n",
    "r_j, v_j = ss_j.rv()"
   ]
  },
  {
   "cell_type": "code",
   "execution_count": 18,
   "metadata": {},
   "outputs": [],
   "source": [
    "(v_flypre, v_oip), = izzo.lambert(Sun.k, r_efly, r_j, date_arrival - date_flyby)"
   ]
  },
  {
   "cell_type": "code",
   "execution_count": 19,
   "metadata": {},
   "outputs": [],
   "source": [
    "ss_oip = Orbit.from_vectors(Sun, r_j, v_oip, epoch=date_flyby)"
   ]
  },
  {
   "cell_type": "code",
   "execution_count": 20,
   "metadata": {},
   "outputs": [
    {
     "data": {
      "text/latex": [
       "$3.1126494 \\; \\mathrm{rad}$"
      ],
      "text/plain": [
       "<Quantity 3.11264944 rad>"
      ]
     },
     "execution_count": 20,
     "metadata": {},
     "output_type": "execute_result"
    }
   ],
   "source": [
    "ss_oip.nu"
   ]
  },
  {
   "cell_type": "code",
   "execution_count": 21,
   "metadata": {},
   "outputs": [
    {
     "data": {
      "application/vnd.jupyter.widget-view+json": {
       "model_id": "28f640d5bfd44ec08e9a37df1da0ff1d",
       "version_major": 2,
       "version_minor": 0
      },
      "text/plain": [
       "FigureWidget({\n",
       "    'data': [{'hoverinfo': 'none',\n",
       "              'line': {'color': 'rgb(31, 119, 180)', 'dash':…"
      ]
     },
     "metadata": {},
     "output_type": "display_data"
    }
   ],
   "source": [
    "op = OrbitPlotter2D()\n",
    "\n",
    "op.plot(ss_e0, label=\"Earth\")\n",
    "op.plot_trajectory(ic1.sample(np.linspace(0 * u.deg, 180 * u.deg, 50)), label=\"Inner Cruise 1\")\n",
    "#op.plot(ss_efly)\n",
    "op.plot_trajectory(ss_aph_post.sample(np.linspace(180 * u.deg, 360 * u.deg + ss_junofly.nu, 50)),\n",
    "                   label=\"Back to Earth\");\n",
    "# Plotting approximation, suggestions welcome\n",
    "op.plot_trajectory(ss_oip.sample(np.linspace(ss_junofly.nu, 180 * u.deg, 50)),\n",
    "                   label=\"Jupiter Orbit Insertion Phase\")\n",
    "op.plot(ss_j, label=\"Jupiter\")"
   ]
  }
 ],
 "metadata": {
  "kernelspec": {
   "display_name": "Python 3",
   "language": "python",
   "name": "python3"
  },
  "language_info": {
   "codemirror_mode": {
    "name": "ipython",
    "version": 3
   },
   "file_extension": ".py",
   "mimetype": "text/x-python",
   "name": "python",
   "nbconvert_exporter": "python",
   "pygments_lexer": "ipython3",
   "version": "3.7.1"
  },
  "nbsphinx": {
   "execute": "never"
  },
  "widgets": {
   "application/vnd.jupyter.widget-state+json": {
    "state": {
     "28f640d5bfd44ec08e9a37df1da0ff1d": {
      "buffers": [
       {
        "data": "8HSogo9moUEg1g1CaF2hQQukt+/7QaFBA/FY0GYUoUFMeLrg19SgQSUWS6WQg6BBr2SW5uQgoEH+N861dFqfQcd43HoQUp5B5i22pq0pnUGKzMW+feKbQb+HkQjSfZpBPpoQLhr9mEGZUKzC4mGXQcOBc6rTrZVBPdslZa7ik0Enbtk+TAKSQTUfGGicDpBBHcvX7kMTjEEQEdCs4+qHQetfpThhqINBwzCUYkGgfkGvDaQ+Oc11QZEXTVyFwWlBySjvhoQgT0Gar0j3ZX5UwagzMWfhQWzBI81Sq6wWd8H5WLD2kPd/wcC6wFE7XYTBc+pv1SqriMGQHDwgJ+GMwUUCF35sfZDBrTp7LgN6ksF2NapdS2SUwU7F9qZLOpbBSHifjR/6l8HHHjpw+aGZwZehj2QkMJvBpqH9+QWjnMEZnY3gH/mdwVx5DXMRMZ/BW5lJkcwkoMGFffrgyqCgwV0L8NcDDKHB95gt7whmocEMRlJbfa6hweaKQGwW5aHBJaYb2psJosFtjEv/5xuiwWqMS//nG6LBHaYb2psJosHWikBsFuWhwfZFUlt9rqHB2pgt7whmocE6C/DXAwyhwV59+uDKoKDBL5lJkcwkoMH1eA1zETGfwaycjeAf+Z3BJqH9+QWjnMEToY9kJDCbwTkeOnD5oZnBtnefjR/6l8GuxPamSzqWwdI0ql1LZJTB+Dl7LgN6ksGRARd+bH2QwSEbPCAn4YzBA+lv1SqriMEvucBRO12EweRVsPaQ93/BFcpSq6wWd8FZLTFn4UFswQ6jSPdlflTBA0LvhoQgT0HMHU1chcFpQboQpD45zXVBvTOUYkGgfkFvYaU4YaiDQYAS0Kzj6odBjczX7kMTjEHqHxhonA6QQdZu2T5MApJB4NslZa7ik0FhgnOq062VQS9RrMLiYZdBxpoQLhr9mEE8iJEI0n2aQf/Mxb594ptBVC62pq0pnUEoedx6EFKeQVU4zrV0Wp9B1GSW5uQgoEFFFkulkIOgQWZ4uuDX1KBBF/FY0GYUoUEXpLfv+0GhQSbWDUJoXaFB8HSogo9moUE=",
        "encoding": "base64",
        "path": [
         "_data",
         0,
         "x",
         "value"
        ]
       },
       {
        "data": "AAAAAACOuD4APwYMpQRiQZZ21KNb+3FBRv/wg9vhekGvfCq2UtaBQW4YzZlUKYZBayFSTH5likG0vpw5coaOQTvQA233Q5FBT7TAiukyk0GUyJxCEQ6VQQtHvceE05ZBS3K6rHCBmEGsJnXFGRaaQUnB6+/ej5tB1XM3wjrtnEGmxvYbxSyeQZt/h5k0TZ9BT6HI868moEEBdcF6H5agQaJT4wJ29KBBDCpKTVJBoUF76jYfZXyhQV5xu5NxpaFBhO1/Wk28oUHGFmHj4MChQfU8unYns6FBOSVCOi+ToUHHsnUiGWGhQTVjn9AYHaFBDKOeXXTHoEEq16URhGCgQT0ucxJk0Z9Bg86dj/PAnkG0ZvJwz5CdQfaQVjoxQpxBgwZB2nHWmkFDiClGCE+ZQX7ZBPiHrZdB0DlbTp/zlUGkGqbQFSOUQVJdvlnKPZJBtyY/KrFFkEEZNLTJo3mMQX0bYe2KSohBQsOz22cChEFvAUYBSUt/QcahXBaAcXZBnXPOKikBa0FkiQvZ9wZSQTWWC9n3BlLB/HnOKikBa8HvpFwWgHF2wY4ERgFJS3/BwsSz22cChMEIHWHtikqIwZI1tMmjeYzBYyc/KrFFkMEDXr5Zyj2SwUobptAVI5TBfDpbTp/zlcEU2gT4h62XwdSIKUYIT5nBCAdB2nHWmsFzkVY6MUKcwSNn8nDPkJ3B786dj/PAnsGcLnMSZNGfwVHXpRGEYKDBLqOeXXTHoMFTY5/QGB2hwd2ydSIZYaHBSiVCOi+TocH/PLp2J7OhwckWYePgwKHBge1/Wk28ocFVcbuTcaWhwWzqNh9lfKHB9ylKTVJBocGIU+MCdvSgweF0wXoflqDBJqHI868moME9f4eZNE2fwT7G9hvFLJ7BZHM3wjrtnMHNwOvv3o+bwSQmdcUZFprBwHG6rHCBmMF5Rr3HhNOWwfbHnEIRDpXBrLPAiukyk8GQzwNt90ORwVG9nDlyho7B/h9STH5lisH4Fs2ZVCmGwTN7KrZS1oHBMfzwg9vhesGKc9SjW/txwdo4BgylBGLBAAAAAAButz4=",
        "encoding": "base64",
        "path": [
         "_data",
         0,
         "y",
         "value"
        ]
       },
       {
        "data": "ietIKgDTncE=",
        "encoding": "base64",
        "path": [
         "_data",
         1,
         "x",
         "value"
        ]
       },
       {
        "data": "L/AASgRalME=",
        "encoding": "base64",
        "path": [
         "_data",
         1,
         "y",
         "value"
        ]
       },
       {
        "data": "D/4BVfb0nMG1P5SgS4ibwew7CDDwBZrBgARIHAdumMGdNTU9psCWwe4QIZfX/ZTB6jQw4Jolk8H+0x4l5zeRwXYO9CtZaY7BPK01Ca03isHu0gNAm9qFwYVZP/L0UYHBy+lmfCE7ecHKdKwVRfVuwXld+SJliVXBKudG+lc2VEEfhgaldqlvQfS66J1E8npBdMI4CXIyg0G4kQiDWRWJQfZE6nqIII9BknX6mB+pkkGeiUXWHNSVQayhyFvMD5lBTJRDXWRanEGHAqg+s7GfQcPCYYyIiaFBt7Y2Uag9o0HI4m3xV/OkQeXnnp1kqKZBfGVYw0JaqEGX7YcjCAaqQQ5EUIhnqKtBbuMA0a49rUFunU4lyMGuQYAszZkfGLBBriyksSXCsEGZI57qb1yxQWJARPFg5LFBE3oUP1NXskHGwEs3q7KyQTMO9V/s87JBCeYED9EYs0HgSpWDYx+zQaMZxQcXBrNB6M+abt/LskFKtusZRXCyQX9iF7xz87FBTKJ5SEJWsUHybYv7MpqwQQ==",
        "encoding": "base64",
        "path": [
         "_data",
         2,
         "x",
         "value"
        ]
       },
       {
        "data": "9iNonLCNlcGV6LVKxWCXwc6xkn48I5nB43sMObXUmsEHiXwqv3ScwUgH5/PYAp7BiOHdYG5+n8HYAoRLa3OgwdxOqRypHaHBBn3tvoS9ocE3s20bhVKiwSMhMegi3KLB6bU1o8dZo8HvhJaMzMqjwbPAEKR5LqTB1ZTVrwSEpMEW05tUkMqkwXJTU0krAaXBl/PDs88mpcFYwdC+YjqlwbYTF3+0OqXButk0P4AmpcH7gSJSbfykwW/+pI8Qu6TBOAC+pO5gpMFxNt5nf+yjweCB/2UyXKPBB1cG4nSuosEykOuBueGhwdJZAuSB9KDBhRVWodTKn8FJT0Bgb2adwf14m63PuZrBE2+vNYjDl8GEgPTy64KUwWLq5bM6+JDBCkDW2J5JisHr3vOJnBaCwdq5Pco+v3LBgILWbkQFGMH6s6+irtJyQYjXdcI6WoNBjBDf2N6MjUH70TaSIfSTQWwmwo5GKJlBpvpyBM9TnkHPgv+TdbOhQbzy4qq/KKRB83UMw9KBpkHCKbzjGbeoQQ==",
        "encoding": "base64",
        "path": [
         "_data",
         2,
         "y",
         "value"
        ]
       },
       {
        "data": "74TUjFTJsEE1rL1njkGvQc5kxC9yiKxBeZRXdPp8qUGnr1dNQjemQeuxTgbpz6JBJjw1p6K8nkHOD3f7je6XQdgdRt1IWJFBVTYzidgphkEAYe8ONeB0QVB1RSeJyyjBCMEHd2iEdMHcbSLdkSiDwbflUG8MGYvBD89zbMgNkcHkpbuRvx2UwadyQcglw5bBbhjFRzgFmcH4Dny2U+uawaKbD76tfJzB/7d3yCXAncEHTy5sJ7yewdBvPuqZdp/BLqSQBdn0n8F8ntMm2h2gwW7VxFW5J6DBVAB5SewZoMGki+itL+yfwTK3CjJPe5/BgRqaUaTjnsGex8FrOieewSxrU8PCR53BVZz0nJtGnMGkRga41iSbwQG3nyI/45nBTtxucl6CmMFgx3tzgQKXwXhGtGO8Y5XBQvqZ1+6lk8FEhiVqx8iRwUbXHMGOl4/BBMSH5Yxci8Guzznn7d6GweuihEHVHILB4JEUy2EoesG3OnTTHgtvwcQOLx1fMlHB1FE9lWscXkFI5M/e2/lzQQ==",
        "encoding": "base64",
        "path": [
         "_data",
         3,
         "x",
         "value"
        ]
       },
       {
        "data": "jmq6xIU2qEGIa1rP/+yqQdD7tEzoOa1BukebSp0Qr0FrjbRzQzWwQRFnV2+Co7BB4r9qUWDVsEE2H2uZSs+wQcBgrVQjl7BBc7+q3p4zsEFiH4CnbFevQTfKBYdxDK5BLEpnRfuSrEE35Pt6a/aqQTgLyzOqQKlBGYMVtx56p0GZFtw7wamlQYFz3oM71aNBwKPRxxABokEK09mqxzCgQdAqmqIlzpxB/bhXTuxLmUG3rqLNz92VQWOeGzjahZJBKJwYJMeKjkHu+3MxdDqIQV/bzAuHG4JBzKKyNGFceEGKqKBmzshpQUSg550V4TxBPh8MNBHQYcFuRnOHeD9zwUn+zGfSOX3BB0P2nkVsg8HZJddmbg6IwQZ8XFrWg4zBflrEbF1mkMF/ETiHjHSSwdS1DKRRbJTBzEnECFtNlsFXe2hUJheYwZ7KvkD6yJnBqIfkwd9hm8H8SQ5gmuCcwYVywKqfQ57BFIPwqQ2Jn8HVVaUcUFegwegW96LS2KDBMgG//HdHocHvrKB8ZaGhwQ==",
        "encoding": "base64",
        "path": [
         "_data",
         3,
         "y",
         "value"
        ]
       },
       {
        "data": "NrskiJbAoUEUMirJ76uiQa1Z/4ZtmqNBzN3RFh6MpEHQiGG3DIGlQVqvUexAeaZBkbtKvr10p0ENyMTbgHOoQRJpwZWBdalBdyUZs696qkHrb1EU8oKrQbQpNCEljqxBAoWd+BicrUGZmi5aj6yuQZuw00A5v69BaIsxEtppsEF3cAxsw/SwQXOAvP0OgLFBqqep+WMLskGEL7wwWJayQc72s4ltILNB4CeeMQ+ps0F502GFji+0Qbnf0rcfs7RBwnWnPNYytUE1qnEHoa21QXfTyrZGIrZB/mafz2GPtkH7YWQ7XfO2QVzJME5xTLdBn0U0r6GYt0HkakiWvNW3QbIRHutbAbhBnPtz6+gYuEEgxBsSoxm4QX3l8AKrALhBcZErORLLt0FYkxwV8HW3QeTTXKN8/rZBjnscCjFitkFc2NLt7J61QTCO5lgfs7RBE8vY0PCds0EOiGdja1+yQVQ4c8Cc+LBBJcMCOFzXrkEt3fWM23erQcnQnpCO26dBSsF7tVANpEECVZtUphmgQQ==",
        "encoding": "base64",
        "path": [
         "_data",
         4,
         "x",
         "value"
        ]
       },
       {
        "data": "2EYyfSAhm8GlS5+YISGawTbozYtEDZnBkMRvQ27kl8Gyb4ymbaWWwcKUxSP6TpXBXdutL7Lfk8HivX63GVaSwc+y3IyYsJDBicI4ovHajcFE9GrRyhWKwXtGtQTRDYbBNONRgdS+gcHRusRmvkh6wUC9rRNmc3DBorIVaknOV8FiKX0EbQVVQXCHJTeONnFBURF8J7f3fUFWUQdxf8iFQRZw03R5B41B4KDucppfkkGRN4JWF3uWQXg5DCBu2ZpB3mq0hsV9n0FHybK8jTWiQfzWb4oV0qRB+2fiP6aVp0HyFWDtJoGqQXxBN0Qila1BEAtokNVosEEBkVJwHhuyQbSh7dbL4LNB3bOBpsy4tUFF6Oy/iaG3QeOT5N3QmLlBTVTHYMCbu0Hr3rXEtaa9QSq+Lu9Atb9BxMeocQ/hwEFb+4tRn+PBQcMj83jp3sJBGMZymTnPw0EMDvVRprDEQTZq/Noxf8VBMowxqvE2xkGSp4nhOtTGQW9xg1rQU8dB4RLVYA6zx0HUYR7tD/DHQQ==",
        "encoding": "base64",
        "path": [
         "_data",
         4,
         "y",
         "value"
        ]
       },
       {
        "data": "8zXn/CYxj0HY2O+snT6bQV1tgy3cY6NB2S2FtP8TqUEvh4dm3KmuQWBpXyrYD7JBLQXzSu23tEH5qsiJcEq3QSG1vRe7xLlBKPB9HT8kvEGy9oFdima+QW78zFykRMBBe7+1TCNFwUGlXLSXuTPCQbw+9UxxD8NBNoUd72fXw0HKc8Ndz4rEQflE6anuKMVBI1if1CKxxUH7OAl33yLGQW1NGFOvfcZBXvlmzDTBxkGMo7dIKu3GQS8jtHdiAcdBtaCjgcj9xkFVw+YcYOLGQYoFJIpFr8ZBiSIod61kxkH+oZjI5ALGQdt7sEpQisVBUIlYSWz7xEHQ3QYQzFbEQXQc6VEZncNBpEz2ehPPwkExgZzqju3BQYu41Rh0+cBBNUILTX3nv0E6jC60+Lq9QXYNzBKYb7tBzv8g5LgHuUEGZ8wC1oW2QeA6YxqF7LNBNARg/XM+sUG0BlrEy/ysQe0/QxRhXqdBETnFqnKnoUHp86AaybuXQR488c+3HohBADA1npFpNUGFMHMfg8qGwawV1SREFZfBp6gknypXocFatQQkQBKnwQWAulP6tazBI/5KekQescGTxk/vHNCzwVGrWG2/bbbBTxNCrnn0uMGwXeQIsWG7wes3SSDlsr3B3ULFd7Llv8G5yqZ06vvAwQOtv/2U88HBdod4itnYwsHjXkTFy6rDwXtMXEOTaMTBqN/VY2wRxcHrm0sZqaTFwYuzR52xIcbBMwy4DAWIxsGRR8rsOdfGwQzbppf+DsfBHyKbkBkvx8GkqFu/aTfHwaCXIZLmJ8fB0BmABqAAx8GqnOiYvsHGwQrs7hqDa8bBYC14cEb+xcHFmhk0eXrFwR5yBUOj4MTBcr/9MGMxxMFkYN2kbW3DwevBX56MlcLBoE3npZ6qwcFPKxnnla3AwS6adW7uPr/B5jOlELICvcHTv0GUxKi6wVzaMXSSM7jBem0nR6SltcFLaAsjnAGzwXUSIeYySrDBCoNa0WoEq8GW2ws0A1mlwQ90DzAOMJ/BpAuJv8mOk8FP0nN62Gh/wUgZhBjeDG9BwzXn/CYxj0E=",
        "encoding": "base64",
        "path": [
         "_data",
         5,
         "x",
         "value"
        ]
       },
       {
        "data": "0XYPwCPjxcHbPvjT+bXFwTCZXc08ccXBUqukhzMVxcE/qkXiPKLEwbPN/17PGMTB1YGwp3h5w8G1w0v83MTCwZYwjIm2+8HB708JqdQewcH063kLGy/Awe2Z/ZsBW77BapHP9h42vMH3dPP0w/G5wc0bn9RGkLfBefAF3BsUtcExcbXR0n+ywRauMLEorK/B0G6yZD4zqsH0t+/VipqkwZRD8MGlz53B7pgUZ+xBksHTvGz4SV96wRUq3VaHinRBvgirlVnhkEHsbPhdOZicQWiFWfCWHaRBK4QvLBzfqUEDBK5yvYqvQWupWTJRjbJBcR8lnYdEtUG6q9dVNei3QQvhYtuhdbpBqVOEnSvqvEEzgRizSkO/QVEY/rpJv8BBs+nlgNzMwUFQPHfJR8nCQWJIvWGHs8NB4vrS0amKxEEhH8xV0U3FQcUYT8I0/MVB54jzUyCVxkFKG5Bo9hfHQcR3uCEwhMdB7tfD713Zx0FC8cwEKBfIQceoNK9OPchBD0NKm6pLyEF3YtX7LELIQbUJWJnfIMhBg+j4x+Tnx0FWVyBEd5fHQap87PXpL8dBVAW7m6exxkF6iCBcMh3GQfADvz8jc8VBVb2Fkym0xEFuJP0zCuHDQbr8WMKe+sJBrP0hxNQBwkF9KV6urPfAQW58aLpxur9BHYg18jhnvUHBgGyVFPi6QQXhN/2Gb7hBug9+tCzQtUFJcrvGuRyzQYp3ovb2V7BBH/LBvn0Jq0E5owAH9kulQbMBojGD+p5BpA569rlGk0GD7ivugSJ+QW2pJfq5znDBCOGHHzTEj8FuoyOhl3abwai/H6ubcqPBYFGpLRgRqcF974WF9pCuwfO/5rdF9rHB2h+riCiPtMH73RFUdhC3wZRGNAiad7nBziO1ixnCu8HlXGVLmO29waVyeanZ97/BVbfmpWHvwMGsZ2ujL9DBwV0yhBFvncLBjmNJXUxWw8Ejd8r2CPrDwS6jfRX8h8TB1CM8ZpP/xMGV7xeiU2DFwQdYbw3ZqcXB4Zi73tfbxcFXW7CMHPbFwR+mWwOM+MXB0XYPwCPjxcE=",
        "encoding": "base64",
        "path": [
         "_data",
         5,
         "y",
         "value"
        ]
       },
       {
        "data": "tB0MCD3XokE=",
        "encoding": "base64",
        "path": [
         "_data",
         6,
         "x",
         "value"
        ]
       },
       {
        "data": "Eqfqa6/Jx0E=",
        "encoding": "base64",
        "path": [
         "_data",
         6,
         "y",
         "value"
        ]
       }
      ],
      "model_module": "plotlywidget",
      "model_module_version": "^0.5.2",
      "model_name": "FigureModel",
      "state": {
       "_config": {
        "plotlyServerURL": "https://plot.ly"
       },
       "_data": [
        {
         "hoverinfo": "none",
         "line": {
          "color": "rgb(31, 119, 180)",
          "dash": "dash",
          "width": 2
         },
         "mode": "lines",
         "name": "2011-08-05 16:26 (Earth)",
         "type": "scatter",
         "uid": "6914119c-418a-4c8c-b6a3-f3d66530dd5c",
         "x": {
          "dtype": "float64",
          "shape": [
           100
          ]
         },
         "y": {
          "dtype": "float64",
          "shape": [
           100
          ]
         }
        },
        {
         "marker": {
          "color": "rgb(31, 119, 180)",
          "size": 10
         },
         "mode": "markers",
         "name": "2011-08-05 16:26 (Earth)",
         "type": "scatter",
         "uid": "8d9770f2-15b8-4614-a1f2-c435137611f1",
         "x": {
          "dtype": "float64",
          "shape": [
           1
          ]
         },
         "y": {
          "dtype": "float64",
          "shape": [
           1
          ]
         }
        },
        {
         "hoverinfo": "none",
         "line": {
          "color": "rgb(255, 127, 14)",
          "dash": "solid",
          "width": 2
         },
         "mode": "lines",
         "name": "Inner Cruise 1",
         "type": "scatter",
         "uid": "c98217bb-85c4-485c-b64c-f2b30e2aa263",
         "x": {
          "dtype": "float64",
          "shape": [
           50
          ]
         },
         "y": {
          "dtype": "float64",
          "shape": [
           50
          ]
         }
        },
        {
         "hoverinfo": "none",
         "line": {
          "color": "rgb(44, 160, 44)",
          "dash": "solid",
          "width": 2
         },
         "mode": "lines",
         "name": "Back to Earth",
         "type": "scatter",
         "uid": "49a1f96d-a88c-4b6b-bae6-c311d88be494",
         "x": {
          "dtype": "float64",
          "shape": [
           50
          ]
         },
         "y": {
          "dtype": "float64",
          "shape": [
           50
          ]
         }
        },
        {
         "hoverinfo": "none",
         "line": {
          "color": "rgb(214, 39, 40)",
          "dash": "solid",
          "width": 2
         },
         "mode": "lines",
         "name": "Jupiter Orbit Insertion Phase",
         "type": "scatter",
         "uid": "942d0264-7b3e-4776-9d97-012612e19c64",
         "x": {
          "dtype": "float64",
          "shape": [
           50
          ]
         },
         "y": {
          "dtype": "float64",
          "shape": [
           50
          ]
         }
        },
        {
         "hoverinfo": "none",
         "line": {
          "color": "rgb(148, 103, 189)",
          "dash": "dash",
          "width": 2
         },
         "mode": "lines",
         "name": "2016-07-05 03:19 (Jupiter)",
         "type": "scatter",
         "uid": "a72f9b76-4aa7-4c50-8011-054ee4b2d764",
         "x": {
          "dtype": "float64",
          "shape": [
           100
          ]
         },
         "y": {
          "dtype": "float64",
          "shape": [
           100
          ]
         }
        },
        {
         "marker": {
          "color": "rgb(148, 103, 189)",
          "size": 10
         },
         "mode": "markers",
         "name": "2016-07-05 03:19 (Jupiter)",
         "type": "scatter",
         "uid": "393cf20a-bc99-40db-af32-c16c6db736c2",
         "x": {
          "dtype": "float64",
          "shape": [
           1
          ]
         },
         "y": {
          "dtype": "float64",
          "shape": [
           1
          ]
         }
        }
       ],
       "_js2py_pointsCallback": {},
       "_js2py_relayout": {},
       "_js2py_restyle": {},
       "_js2py_update": {},
       "_last_layout_edit_id": 8,
       "_last_trace_edit_id": 8,
       "_layout": {
        "autosize": true,
        "shapes": [
         {
          "fillcolor": "#ffcc00",
          "line": {
           "color": "#ffcc00"
          },
          "opacity": 1,
          "type": "circle",
          "x0": -21895056.19935296,
          "x1": 21895056.19935296,
          "xref": "x",
          "y0": -21895056.19935296,
          "y1": 21895056.19935296,
          "yref": "y"
         }
        ],
        "template": {},
        "xaxis": {
         "constrain": "domain",
         "title": "x (km)"
        },
        "yaxis": {
         "scaleanchor": "x",
         "title": "y (km)"
        }
       },
       "_py2js_animate": {},
       "_py2js_deleteTraces": {},
       "_py2js_moveTraces": {},
       "_py2js_removeLayoutProps": {},
       "_py2js_removeTraceProps": {},
       "_py2js_restyle": {},
       "_view_count": 1
      }
     },
     "44170e3049fe4dd29d28aa50911f93d9": {
      "buffers": [
       {
        "data": "8HSogo9moUEg1g1CaF2hQQukt+/7QaFBA/FY0GYUoUFMeLrg19SgQSUWS6WQg6BBr2SW5uQgoEH+N861dFqfQcd43HoQUp5B5i22pq0pnUGKzMW+feKbQb+HkQjSfZpBPpoQLhr9mEGZUKzC4mGXQcOBc6rTrZVBPdslZa7ik0Enbtk+TAKSQTUfGGicDpBBHcvX7kMTjEEQEdCs4+qHQetfpThhqINBwzCUYkGgfkGvDaQ+Oc11QZEXTVyFwWlBySjvhoQgT0Gar0j3ZX5UwagzMWfhQWzBI81Sq6wWd8H5WLD2kPd/wcC6wFE7XYTBc+pv1SqriMGQHDwgJ+GMwUUCF35sfZDBrTp7LgN6ksF2NapdS2SUwU7F9qZLOpbBSHifjR/6l8HHHjpw+aGZwZehj2QkMJvBpqH9+QWjnMEZnY3gH/mdwVx5DXMRMZ/BW5lJkcwkoMGFffrgyqCgwV0L8NcDDKHB95gt7whmocEMRlJbfa6hweaKQGwW5aHBJaYb2psJosFtjEv/5xuiwWqMS//nG6LBHaYb2psJosHWikBsFuWhwfZFUlt9rqHB2pgt7whmocE6C/DXAwyhwV59+uDKoKDBL5lJkcwkoMH1eA1zETGfwaycjeAf+Z3BJqH9+QWjnMEToY9kJDCbwTkeOnD5oZnBtnefjR/6l8GuxPamSzqWwdI0ql1LZJTB+Dl7LgN6ksGRARd+bH2QwSEbPCAn4YzBA+lv1SqriMEvucBRO12EweRVsPaQ93/BFcpSq6wWd8FZLTFn4UFswQ6jSPdlflTBA0LvhoQgT0HMHU1chcFpQboQpD45zXVBvTOUYkGgfkFvYaU4YaiDQYAS0Kzj6odBjczX7kMTjEHqHxhonA6QQdZu2T5MApJB4NslZa7ik0FhgnOq062VQS9RrMLiYZdBxpoQLhr9mEE8iJEI0n2aQf/Mxb594ptBVC62pq0pnUEoedx6EFKeQVU4zrV0Wp9B1GSW5uQgoEFFFkulkIOgQWZ4uuDX1KBBF/FY0GYUoUEXpLfv+0GhQSbWDUJoXaFB8HSogo9moUE=",
        "encoding": "base64",
        "path": [
         "_data",
         0,
         "x",
         "value"
        ]
       },
       {
        "data": "AAAAAACOuD4APwYMpQRiQZZ21KNb+3FBRv/wg9vhekGvfCq2UtaBQW4YzZlUKYZBayFSTH5likG0vpw5coaOQTvQA233Q5FBT7TAiukyk0GUyJxCEQ6VQQtHvceE05ZBS3K6rHCBmEGsJnXFGRaaQUnB6+/ej5tB1XM3wjrtnEGmxvYbxSyeQZt/h5k0TZ9BT6HI868moEEBdcF6H5agQaJT4wJ29KBBDCpKTVJBoUF76jYfZXyhQV5xu5NxpaFBhO1/Wk28oUHGFmHj4MChQfU8unYns6FBOSVCOi+ToUHHsnUiGWGhQTVjn9AYHaFBDKOeXXTHoEEq16URhGCgQT0ucxJk0Z9Bg86dj/PAnkG0ZvJwz5CdQfaQVjoxQpxBgwZB2nHWmkFDiClGCE+ZQX7ZBPiHrZdB0DlbTp/zlUGkGqbQFSOUQVJdvlnKPZJBtyY/KrFFkEEZNLTJo3mMQX0bYe2KSohBQsOz22cChEFvAUYBSUt/QcahXBaAcXZBnXPOKikBa0FkiQvZ9wZSQTWWC9n3BlLB/HnOKikBa8HvpFwWgHF2wY4ERgFJS3/BwsSz22cChMEIHWHtikqIwZI1tMmjeYzBYyc/KrFFkMEDXr5Zyj2SwUobptAVI5TBfDpbTp/zlcEU2gT4h62XwdSIKUYIT5nBCAdB2nHWmsFzkVY6MUKcwSNn8nDPkJ3B786dj/PAnsGcLnMSZNGfwVHXpRGEYKDBLqOeXXTHoMFTY5/QGB2hwd2ydSIZYaHBSiVCOi+TocH/PLp2J7OhwckWYePgwKHBge1/Wk28ocFVcbuTcaWhwWzqNh9lfKHB9ylKTVJBocGIU+MCdvSgweF0wXoflqDBJqHI868moME9f4eZNE2fwT7G9hvFLJ7BZHM3wjrtnMHNwOvv3o+bwSQmdcUZFprBwHG6rHCBmMF5Rr3HhNOWwfbHnEIRDpXBrLPAiukyk8GQzwNt90ORwVG9nDlyho7B/h9STH5lisH4Fs2ZVCmGwTN7KrZS1oHBMfzwg9vhesGKc9SjW/txwdo4BgylBGLBAAAAAAButz4=",
        "encoding": "base64",
        "path": [
         "_data",
         0,
         "y",
         "value"
        ]
       },
       {
        "data": "ietIKgDTncE=",
        "encoding": "base64",
        "path": [
         "_data",
         1,
         "x",
         "value"
        ]
       },
       {
        "data": "L/AASgRalME=",
        "encoding": "base64",
        "path": [
         "_data",
         1,
         "y",
         "value"
        ]
       },
       {
        "data": "D/4BVfb0nMG1P5SgS4ibwew7CDDwBZrBgARIHAdumMGdNTU9psCWwe4QIZfX/ZTB6jQw4Jolk8H+0x4l5zeRwXYO9CtZaY7BPK01Ca03isHu0gNAm9qFwYVZP/L0UYHBy+lmfCE7ecHKdKwVRfVuwXld+SJliVXBKudG+lc2VEEfhgaldqlvQfS66J1E8npBdMI4CXIyg0G4kQiDWRWJQfZE6nqIII9BknX6mB+pkkGeiUXWHNSVQayhyFvMD5lBTJRDXWRanEGHAqg+s7GfQcPCYYyIiaFBt7Y2Uag9o0HI4m3xV/OkQeXnnp1kqKZBfGVYw0JaqEGX7YcjCAaqQQ5EUIhnqKtBbuMA0a49rUFunU4lyMGuQYAszZkfGLBBriyksSXCsEGZI57qb1yxQWJARPFg5LFBE3oUP1NXskHGwEs3q7KyQTMO9V/s87JBCeYED9EYs0HgSpWDYx+zQaMZxQcXBrNB6M+abt/LskFKtusZRXCyQX9iF7xz87FBTKJ5SEJWsUHybYv7MpqwQQ==",
        "encoding": "base64",
        "path": [
         "_data",
         2,
         "x",
         "value"
        ]
       },
       {
        "data": "9iNonLCNlcGV6LVKxWCXwc6xkn48I5nB43sMObXUmsEHiXwqv3ScwUgH5/PYAp7BiOHdYG5+n8HYAoRLa3OgwdxOqRypHaHBBn3tvoS9ocE3s20bhVKiwSMhMegi3KLB6bU1o8dZo8HvhJaMzMqjwbPAEKR5LqTB1ZTVrwSEpMEW05tUkMqkwXJTU0krAaXBl/PDs88mpcFYwdC+YjqlwbYTF3+0OqXButk0P4AmpcH7gSJSbfykwW/+pI8Qu6TBOAC+pO5gpMFxNt5nf+yjweCB/2UyXKPBB1cG4nSuosEykOuBueGhwdJZAuSB9KDBhRVWodTKn8FJT0Bgb2adwf14m63PuZrBE2+vNYjDl8GEgPTy64KUwWLq5bM6+JDBCkDW2J5JisHr3vOJnBaCwdq5Pco+v3LBgILWbkQFGMH6s6+irtJyQYjXdcI6WoNBjBDf2N6MjUH70TaSIfSTQWwmwo5GKJlBpvpyBM9TnkHPgv+TdbOhQbzy4qq/KKRB83UMw9KBpkHCKbzjGbeoQQ==",
        "encoding": "base64",
        "path": [
         "_data",
         2,
         "y",
         "value"
        ]
       },
       {
        "data": "2SHMLujpl8Gtfd0DNv2VwVp2rN6Q45PBZ1CS9iKfkcHfgIA6hWSOwdaR+avfPonBDhDNg6PSg8F4JJKPz0p8wSPzVvwMenDBjjh+K7X8UMFZe/FKaLJgQT3FypEbQnVBNwLsGh03gUFLtOcB/ueHQV4xv9HKrI5BjyegqkS/kkFDfrH/GCuWQdWtJpVblplBAGVQLob9nEFASmRjiy6gQY8/EpjJ2KFBt3zJU8Z7o0F5etqv0RWlQXFIhf1EpaZBIGmveYQoqEEQ3lf1AJ6pQdjaE3E5BKtBI/PrqbxZrEEBrACWKp2tQYcPbs81za5BkjD466Tor0EoLQ/gKXewQXbxI0aa7rBBOhZqiShasUH4mPfKZbmxQZF8Et7vC7JBBiVkrXFRskFVBK6So4myQYwvpaBLtLJB4rmo3j3RskFUSBV2XOCyQW4kB9GX4bJBnBlrqu7UskFRjU0PbrqyQZx4ZlExkrJBXyHw6mFcskGamuVTNxmyQZwe1cj2yLFBCDSBA/NrsUGGL5rliwKxQZD55xUujbBBavpJkFIMsEFGQAFS/ACvQckZggeC1K1BKSVA/muUrEHrSdspBEKrQfKkSmCn3qlBYSJG8sNrqEFga6sx2OqmQS5mY+dwXaVB5YheuifFo0E1nU2JoSOiQTdByriMeqBBUrZc7z6XnUFUq8f2KzGaQSyB/GthxpZBubPsD2Vak0E9CZC9e+GPQcvdVtrgGYlBJE6Vj/ZkgkGVZ0RlTZN3QWSsh9ECO2VBlpRuPtZQQMHqaj1t96xswY6o9/jzOnrBJjBXoKDVgsGw85Z/zE2IwcZRh0ZagI3BypttMvczkcG3WcFJvX+TwVooa4UhoZXB9AzcsfGVl8GKUVGPKVyZwUGp/eX08ZrB1mOvaLFVnMFJKgJk8IWdwdnHXzh4gZ7B71hKnUVHn8EAnqKsjNafwfx3a9pcF6DBExaR6LgnoMEB1J6jSRygwTGXJao16p/BNA3Mwalkn8GYp9M3eaiewaS2pwlmtp3BpiyEwGmPnMEpdTtwtDSbwTlcw32rp5nB2SHMLujpl8E=",
        "encoding": "base64",
        "path": [
         "_data",
         3,
         "x",
         "value"
        ]
       },
       {
        "data": "GCXXRCg/kcFxJ+XG2biTwaYLed4kDpbBFBKi16E8mMHwfL3+EEKawZ2u6PFcHJzBDZ7TxpzJncEh3LwCFkifwc7SRzEfS6DBQ+qmuF7ZoMFMYJH1Nk6hweGE2HUvqaHB+9Yxc+rpocH2OOEzJRCiwV0pgU+4G6LBWxmi15cMosHJABdk0+KhwV2C4gKWnqHBpDHVCyZAocGcugrY5MegweypkF1ONqDB0408X/EXn8Ecb8LHJpOdweXM/LrN35vBanwD/ab/mcFkUCOBofSXwSF4qWvYwJXBXy8h5pBmk8EVoUDIN+iQwcQQ3S++kIzBaoboxXYTh8EzGC/qQV6BwSIN77UD7nbBdENjsjGPZcE0FL6LZ6M6QVLOzX4stWxBNs9A/HE8e0FJHykXQSGEQaKrQQGtr4pBxyGXSl2hkEHT/75y0emTQeu7eJ3QLZdBi9xMB/1pmkEPNz/9AJudQYjyaCbJXqBBWX4W1DrnoUHzDnb9QGWjQa1gEdZR16RBMscd5e87pkG46baOq5GnQYo2z44k16hBPnBPZAsLqkEKA++qIiyrQbShYGJAOaxBgueBIU8xrUE+WFE0TxOuQVD3g6NX3q5BNsGqJJeRr0FZPfh4KhawQci4SMT4VrBBS2ykpvOKsEHnHwWL5bGwQYGYPEymy7BBjohWXhvYsEG8+vXpN9ewQWIBktn8yLBBZAWE2HitsEHNrehDyISwQX32Yg0VT7BBl5nfj5YMsEGlugqtInuvQWcwGqytxK5BLoKUMYr2rUEqMnW7jBGtQdy4AVahFqxB/b92qMoGq0HPCGjqIOOpQWDW5cLQrKhBpZyREhplp0EObuGpTg2mQboM5uzQpqRBK5b6ZRIzo0EWW9ZIkrOhQdePiefbKaBB2wr4NQovnUEm9yNBWfyZQYWYTN3wvpZB2EYlAyh6k0GwRgxGXTGQQZLMwrXmz4lBCgQ1NZtCg0ESjLsQMoN5QQTpmAtSTmlBAHBv/mAzusDvszrnS9RowVNGXciUhXjB/K3yXrojgsGzraeX09GHwXd0vyM7R43BGCXXRCg/kcE=",
        "encoding": "base64",
        "path": [
         "_data",
         3,
         "y",
         "value"
        ]
       },
       {
        "data": "ItZdBa+ysEE=",
        "encoding": "base64",
        "path": [
         "_data",
         4,
         "x",
         "value"
        ]
       },
       {
        "data": "5m22ymt0qEE=",
        "encoding": "base64",
        "path": [
         "_data",
         4,
         "y",
         "value"
        ]
       }
      ],
      "model_module": "plotlywidget",
      "model_module_version": "^0.5.2",
      "model_name": "FigureModel",
      "state": {
       "_config": {
        "plotlyServerURL": "https://plot.ly"
       },
       "_data": [
        {
         "hoverinfo": "none",
         "line": {
          "color": "rgb(31, 119, 180)",
          "dash": "dash",
          "width": 2
         },
         "mode": "lines",
         "name": "2011-08-05 16:26 (Earth)",
         "type": "scatter",
         "uid": "61e7afc8-f05b-4c82-a01c-78c548bd9a36",
         "x": {
          "dtype": "float64",
          "shape": [
           100
          ]
         },
         "y": {
          "dtype": "float64",
          "shape": [
           100
          ]
         }
        },
        {
         "marker": {
          "color": "rgb(31, 119, 180)",
          "size": 10
         },
         "mode": "markers",
         "name": "2011-08-05 16:26 (Earth)",
         "type": "scatter",
         "uid": "2455c67a-55ac-4643-9535-a0ca3ea11a4a",
         "x": {
          "dtype": "float64",
          "shape": [
           1
          ]
         },
         "y": {
          "dtype": "float64",
          "shape": [
           1
          ]
         }
        },
        {
         "hoverinfo": "none",
         "line": {
          "color": "rgb(255, 127, 14)",
          "dash": "solid",
          "width": 2
         },
         "mode": "lines",
         "name": "Inner Cruise 1",
         "type": "scatter",
         "uid": "f872c3fb-ac6b-4187-8b9d-48814db25c0b",
         "x": {
          "dtype": "float64",
          "shape": [
           50
          ]
         },
         "y": {
          "dtype": "float64",
          "shape": [
           50
          ]
         }
        },
        {
         "hoverinfo": "none",
         "line": {
          "color": "rgb(44, 160, 44)",
          "dash": "dash",
          "width": 2
         },
         "mode": "lines",
         "name": "2012-09-01 14:40 (Back to Earth)",
         "type": "scatter",
         "uid": "71d9bb6c-64f1-4bf2-a6f1-759e0bd7c57e",
         "x": {
          "dtype": "float64",
          "shape": [
           100
          ]
         },
         "y": {
          "dtype": "float64",
          "shape": [
           100
          ]
         }
        },
        {
         "marker": {
          "color": "rgb(44, 160, 44)",
          "size": 10
         },
         "mode": "markers",
         "name": "2012-09-01 14:40 (Back to Earth)",
         "type": "scatter",
         "uid": "2f930751-c89f-4f03-82ad-d05d2ef3d58f",
         "x": {
          "dtype": "float64",
          "shape": [
           1
          ]
         },
         "y": {
          "dtype": "float64",
          "shape": [
           1
          ]
         }
        }
       ],
       "_js2py_pointsCallback": {},
       "_js2py_relayout": {},
       "_js2py_restyle": {},
       "_js2py_update": {},
       "_last_layout_edit_id": 6,
       "_last_trace_edit_id": 6,
       "_layout": {
        "autosize": true,
        "shapes": [
         {
          "fillcolor": "#ffcc00",
          "line": {
           "color": "#ffcc00"
          },
          "opacity": 1,
          "type": "circle",
          "x0": -21895056.19935296,
          "x1": 21895056.19935296,
          "xref": "x",
          "y0": -21895056.19935296,
          "y1": 21895056.19935296,
          "yref": "y"
         }
        ],
        "template": {},
        "xaxis": {
         "constrain": "domain",
         "title": "x (km)"
        },
        "yaxis": {
         "scaleanchor": "x",
         "title": "y (km)"
        }
       },
       "_py2js_animate": {},
       "_py2js_deleteTraces": {},
       "_py2js_moveTraces": {},
       "_py2js_removeLayoutProps": {},
       "_py2js_removeTraceProps": {},
       "_py2js_restyle": {},
       "_view_count": 1
      }
     },
     "674902b77f34466e88ac0507e64f048e": {
      "buffers": [
       {
        "data": "8HSogo9moUEg1g1CaF2hQQukt+/7QaFBA/FY0GYUoUFMeLrg19SgQSUWS6WQg6BBr2SW5uQgoEH+N861dFqfQcd43HoQUp5B5i22pq0pnUGKzMW+feKbQb+HkQjSfZpBPpoQLhr9mEGZUKzC4mGXQcOBc6rTrZVBPdslZa7ik0Enbtk+TAKSQTUfGGicDpBBHcvX7kMTjEEQEdCs4+qHQetfpThhqINBwzCUYkGgfkGvDaQ+Oc11QZEXTVyFwWlBySjvhoQgT0Gar0j3ZX5UwagzMWfhQWzBI81Sq6wWd8H5WLD2kPd/wcC6wFE7XYTBc+pv1SqriMGQHDwgJ+GMwUUCF35sfZDBrTp7LgN6ksF2NapdS2SUwU7F9qZLOpbBSHifjR/6l8HHHjpw+aGZwZehj2QkMJvBpqH9+QWjnMEZnY3gH/mdwVx5DXMRMZ/BW5lJkcwkoMGFffrgyqCgwV0L8NcDDKHB95gt7whmocEMRlJbfa6hweaKQGwW5aHBJaYb2psJosFtjEv/5xuiwWqMS//nG6LBHaYb2psJosHWikBsFuWhwfZFUlt9rqHB2pgt7whmocE6C/DXAwyhwV59+uDKoKDBL5lJkcwkoMH1eA1zETGfwaycjeAf+Z3BJqH9+QWjnMEToY9kJDCbwTkeOnD5oZnBtnefjR/6l8GuxPamSzqWwdI0ql1LZJTB+Dl7LgN6ksGRARd+bH2QwSEbPCAn4YzBA+lv1SqriMEvucBRO12EweRVsPaQ93/BFcpSq6wWd8FZLTFn4UFswQ6jSPdlflTBA0LvhoQgT0HMHU1chcFpQboQpD45zXVBvTOUYkGgfkFvYaU4YaiDQYAS0Kzj6odBjczX7kMTjEHqHxhonA6QQdZu2T5MApJB4NslZa7ik0FhgnOq062VQS9RrMLiYZdBxpoQLhr9mEE8iJEI0n2aQf/Mxb594ptBVC62pq0pnUEoedx6EFKeQVU4zrV0Wp9B1GSW5uQgoEFFFkulkIOgQWZ4uuDX1KBBF/FY0GYUoUEXpLfv+0GhQSbWDUJoXaFB8HSogo9moUE=",
        "encoding": "base64",
        "path": [
         "_data",
         0,
         "x",
         "value"
        ]
       },
       {
        "data": "AAAAAACOuD4APwYMpQRiQZZ21KNb+3FBRv/wg9vhekGvfCq2UtaBQW4YzZlUKYZBayFSTH5likG0vpw5coaOQTvQA233Q5FBT7TAiukyk0GUyJxCEQ6VQQtHvceE05ZBS3K6rHCBmEGsJnXFGRaaQUnB6+/ej5tB1XM3wjrtnEGmxvYbxSyeQZt/h5k0TZ9BT6HI868moEEBdcF6H5agQaJT4wJ29KBBDCpKTVJBoUF76jYfZXyhQV5xu5NxpaFBhO1/Wk28oUHGFmHj4MChQfU8unYns6FBOSVCOi+ToUHHsnUiGWGhQTVjn9AYHaFBDKOeXXTHoEEq16URhGCgQT0ucxJk0Z9Bg86dj/PAnkG0ZvJwz5CdQfaQVjoxQpxBgwZB2nHWmkFDiClGCE+ZQX7ZBPiHrZdB0DlbTp/zlUGkGqbQFSOUQVJdvlnKPZJBtyY/KrFFkEEZNLTJo3mMQX0bYe2KSohBQsOz22cChEFvAUYBSUt/QcahXBaAcXZBnXPOKikBa0FkiQvZ9wZSQTWWC9n3BlLB/HnOKikBa8HvpFwWgHF2wY4ERgFJS3/BwsSz22cChMEIHWHtikqIwZI1tMmjeYzBYyc/KrFFkMEDXr5Zyj2SwUobptAVI5TBfDpbTp/zlcEU2gT4h62XwdSIKUYIT5nBCAdB2nHWmsFzkVY6MUKcwSNn8nDPkJ3B786dj/PAnsGcLnMSZNGfwVHXpRGEYKDBLqOeXXTHoMFTY5/QGB2hwd2ydSIZYaHBSiVCOi+TocH/PLp2J7OhwckWYePgwKHBge1/Wk28ocFVcbuTcaWhwWzqNh9lfKHB9ylKTVJBocGIU+MCdvSgweF0wXoflqDBJqHI868moME9f4eZNE2fwT7G9hvFLJ7BZHM3wjrtnMHNwOvv3o+bwSQmdcUZFprBwHG6rHCBmMF5Rr3HhNOWwfbHnEIRDpXBrLPAiukyk8GQzwNt90ORwVG9nDlyho7B/h9STH5lisH4Fs2ZVCmGwTN7KrZS1oHBMfzwg9vhesGKc9SjW/txwdo4BgylBGLBAAAAAAButz4=",
        "encoding": "base64",
        "path": [
         "_data",
         0,
         "y",
         "value"
        ]
       },
       {
        "data": "ietIKgDTncE=",
        "encoding": "base64",
        "path": [
         "_data",
         1,
         "x",
         "value"
        ]
       },
       {
        "data": "L/AASgRalME=",
        "encoding": "base64",
        "path": [
         "_data",
         1,
         "y",
         "value"
        ]
       },
       {
        "data": "D/4BVfb0nMFnbHoia8qawZp3G3X0cJjB10ZTTf7qlcGjESWKIjuTwTopxDomZJDBjxlUh+3RisHx8jG0TZmEwaIMnWStSXzBVEa7nL/sbcE8U0h58WY0wYzofJ8RcGlB8N7NBJv2ekGX1llITLOEQUDMocWP/ItBJjGYnMqnkUEEj4HpZ1KVQc4DQz5Y+phB61+n0dabnEF2+Ym/khmgQa6cGlFI3qFBKDTsczmao0FvcAGInEulQY3ms86y8KZBZq43N8qHqEGjGw0ePw+qQRlVk/19hatBmOL9DQXprEEcagDTZTiuQTqulpVGcq9BtrAx5LFKsEGqOZuqSNCwQQ2FMeldSbFBjiRTz3S1sUEWHz3xHRSyQfbZ5br3ZLJBfA+T1K6nskGCI8N4/tuyQV9GEbuwAbNBNlPLv54Ys0G2HADksCCzQWDe3NXeGbNBRLRAnS8Es0FSQn2Uud+yQaQDTFGirLJBWgIQfh5rskHo54ujcRuyQS5cROPtvbFBWXbWovNSsUHvhJko8dqwQY2b8iliVrBBwyael56Lr0Ho5JIrm1OuQdrXE7H7Ba1BMKoBEBikq0Fw4UsUXS+qQdGP5vVKqahBpMK6zHMTp0Gt8SnyeW+lQcKyz1EOv6NBsTo+q+4DokGVr4HG4z+gQejmhzp/6ZxBdozs9LZImUGkxt8kLKGVQa4M8Sqj9pFB1ATu+saZjEFCDY+GZ0+FQYeZFr1XK3xB1PtEBhvQa0GALpeXzFv8wIrN+l3ipmvBzKUGVw8ve8GKxUuguBCEwYc/FTGfTorBqdGpG2YlkMFaUU4miv+SwQQVXhPLspXBjuqxU2A8mMFV9JpMrJmawUbAIAo/yJzB/nMwwtjFnsEbBhMTNkigwbTtJUAQE6HBbguRzanCocEWEzy4TVaiwT+pTc9jzaLBDRMNUXEno8GRhmxpGWSjwRSruZEdg6PBvKUR0V2Eo8ECQlbd2GejwY08ghysLaPB+lFbhhPWosFjTqFmaWGiwWfW+f8l0KHBV9z4D98iocFWi8U0R1qgwTiK9Wla7p7BEv4BVfb0nME=",
        "encoding": "base64",
        "path": [
         "_data",
         2,
         "x",
         "value"
        ]
       },
       {
        "data": "9iNonLCNlcFiaAYiZ0OYwVCpE5K80ZrBeC81bA42ncGfbSd/5W2fwYjLsTl8u6DBQdlAE5enocFJl3TqT3qiwT+byofNMqPBo8XzvVHQo8G7IN4tOlKkwe0cFe4AuKTBoaHLFD0BpcGhpwEkoy2lwdfhVVcFPaXB3jwz01MvpcGOkym1nASlweG+YAUMvaTB+AA1ietYpMHolCt3otijwcfGjQy1PKPBXEAYBcSFosHSDkv1i7ShwYksBYjkyaDBEeNnQH+Nn8EzKve+UFidwd+OsyWE9prBcnu8DI5qmMHrcV2CDreVwXkASVbO3pLBgXehdXjJj8GFWR9+05eJwWbDSUoQL4PBnnEDX5QrecGvQ1ITOktnwTTBbQCmLkFBltoJtIgocEEgrQeSDVR+QVEKZgPkTIZBnB5c3YB1jUGcvA0fPk6SQXVcmF073ZVBo0ELGQ1kmUF2lR2sEN+cQYleas5XJaBB37Wmp7HRoUFstRRU3HKjQf19cc0pB6VBf7ktUPmMpkEskwkJuQKoQRiBSrPnZqlBKuXfJRa4qkEGI93N6PSrQbkGwxQZHK1B1ycnsXYsrkENQV7g6CSvQYgT88M3ArBBroSyHhJlsEFC7RaanbqwQbuEqgeCArFBrn6+S3U8sUG/ds+pO2ixQRdLGQKohbFB8usaAJyUsUFDLdo5CJWxQfVfxz/shrFB8FEwnVZqsUEIPkLJZD+xQacgqghDBrFBCsDyPyy/sEFtcs+2aWqwQVA2ksxSCLBBRPU1PJkyr0Gl3Dk7kzuuQbGQSjmSLK1Bfki6ka0GrEGqeRs4FMuqQRDi9n8Le6lBaw9xze0XqEHcFTkwKaOmQYSHMOo9HqVBCKdR47yKo0EQJGwMRuqhQXNhYrKGPqBB8n5Ch28SnUEbKzUTOJiZQW/HLbD8EZZBVnh6aF+DkkG3xePUFeCNQYekrIFdt4ZBzF7YGO4nf0H58c5cfPpwQfRqOPQYqEdBkL8pDRO0ZcHvhiCRbWR4wSLJB+MZzoLBflkFCt45icHdgYHP5G6PwcdWYBlks5LB8yNonLCNlcE=",
        "encoding": "base64",
        "path": [
         "_data",
         2,
         "y",
         "value"
        ]
       },
       {
        "data": "ietIKgDTncE=",
        "encoding": "base64",
        "path": [
         "_data",
         3,
         "x",
         "value"
        ]
       },
       {
        "data": "L/AASgRalME=",
        "encoding": "base64",
        "path": [
         "_data",
         3,
         "y",
         "value"
        ]
       }
      ],
      "model_module": "plotlywidget",
      "model_module_version": "^0.5.2",
      "model_name": "FigureModel",
      "state": {
       "_config": {
        "plotlyServerURL": "https://plot.ly"
       },
       "_data": [
        {
         "hoverinfo": "none",
         "line": {
          "color": "rgb(31, 119, 180)",
          "dash": "dash",
          "width": 2
         },
         "mode": "lines",
         "name": "2011-08-05 16:26",
         "type": "scatter",
         "uid": "70632226-53fd-413d-8b32-c19035492e1b",
         "x": {
          "dtype": "float64",
          "shape": [
           100
          ]
         },
         "y": {
          "dtype": "float64",
          "shape": [
           100
          ]
         }
        },
        {
         "marker": {
          "color": "rgb(31, 119, 180)",
          "size": 10
         },
         "mode": "markers",
         "name": "2011-08-05 16:26",
         "type": "scatter",
         "uid": "7a573624-5f06-4b80-a6fe-0a44a04af4f2",
         "x": {
          "dtype": "float64",
          "shape": [
           1
          ]
         },
         "y": {
          "dtype": "float64",
          "shape": [
           1
          ]
         }
        },
        {
         "hoverinfo": "none",
         "line": {
          "color": "rgb(255, 127, 14)",
          "dash": "dash",
          "width": 2
         },
         "mode": "lines",
         "name": "2011-08-05 16:26",
         "type": "scatter",
         "uid": "571d3079-4d0e-401c-8134-fd981e767ebf",
         "x": {
          "dtype": "float64",
          "shape": [
           100
          ]
         },
         "y": {
          "dtype": "float64",
          "shape": [
           100
          ]
         }
        },
        {
         "marker": {
          "color": "rgb(255, 127, 14)",
          "size": 10
         },
         "mode": "markers",
         "name": "2011-08-05 16:26",
         "type": "scatter",
         "uid": "d8973d07-3f73-4aac-82c5-724d3984740c",
         "x": {
          "dtype": "float64",
          "shape": [
           1
          ]
         },
         "y": {
          "dtype": "float64",
          "shape": [
           1
          ]
         }
        }
       ],
       "_js2py_pointsCallback": {},
       "_js2py_relayout": {},
       "_js2py_restyle": {},
       "_js2py_update": {},
       "_last_layout_edit_id": 5,
       "_last_trace_edit_id": 5,
       "_layout": {
        "autosize": true,
        "shapes": [
         {
          "fillcolor": "#ffcc00",
          "line": {
           "color": "#ffcc00"
          },
          "opacity": 1,
          "type": "circle",
          "x0": -21895056.19935296,
          "x1": 21895056.19935296,
          "xref": "x",
          "y0": -21895056.19935296,
          "y1": 21895056.19935296,
          "yref": "y"
         }
        ],
        "template": {},
        "xaxis": {
         "constrain": "domain",
         "title": "x (km)"
        },
        "yaxis": {
         "scaleanchor": "x",
         "title": "y (km)"
        }
       },
       "_py2js_animate": {},
       "_py2js_deleteTraces": {},
       "_py2js_moveTraces": {},
       "_py2js_removeLayoutProps": {},
       "_py2js_removeTraceProps": {},
       "_py2js_restyle": {},
       "_view_count": 1
      }
     }
    },
    "version_major": 2,
    "version_minor": 0
   }
  }
 },
 "nbformat": 4,
 "nbformat_minor": 1
}
